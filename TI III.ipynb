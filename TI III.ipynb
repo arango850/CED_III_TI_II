{
 "cells": [
  {
   "cell_type": "code",
   "execution_count": 1,
   "id": "b6c0f553",
   "metadata": {},
   "outputs": [],
   "source": [
    "import pandas as pd"
   ]
  },
  {
   "cell_type": "code",
   "execution_count": 2,
   "id": "321c6477",
   "metadata": {},
   "outputs": [],
   "source": [
    "df_amazon = pd.read_csv(r\"C:\\Andrés\\Sistemas 7to semestre\\Computación y estructuras discretas III\\sentiment labelled sentences\\amazon_cells_labelled.txt\",sep=\"\\t\",header=None,names=['sentence','target'])"
   ]
  },
  {
   "cell_type": "code",
   "execution_count": 3,
   "id": "923053d3",
   "metadata": {},
   "outputs": [
    {
     "name": "stdout",
     "output_type": "stream",
     "text": [
      "<class 'pandas.core.frame.DataFrame'>\n",
      "RangeIndex: 1000 entries, 0 to 999\n",
      "Data columns (total 2 columns):\n",
      " #   Column    Non-Null Count  Dtype \n",
      "---  ------    --------------  ----- \n",
      " 0   sentence  1000 non-null   object\n",
      " 1   target    1000 non-null   int64 \n",
      "dtypes: int64(1), object(1)\n",
      "memory usage: 15.8+ KB\n"
     ]
    }
   ],
   "source": [
    "df_amazon.info()"
   ]
  },
  {
   "cell_type": "code",
   "execution_count": 4,
   "id": "ae9fb19e",
   "metadata": {},
   "outputs": [],
   "source": [
    "df_imbd = pd.read_csv(r\"C:\\Andrés\\Sistemas 7to semestre\\Computación y estructuras discretas III\\sentiment labelled sentences\\imdb_labelled.txt\",sep=\"\\t\",header=None,names=['sentence','target'])"
   ]
  },
  {
   "cell_type": "code",
   "execution_count": 5,
   "id": "c7f773be",
   "metadata": {},
   "outputs": [
    {
     "name": "stdout",
     "output_type": "stream",
     "text": [
      "<class 'pandas.core.frame.DataFrame'>\n",
      "RangeIndex: 748 entries, 0 to 747\n",
      "Data columns (total 2 columns):\n",
      " #   Column    Non-Null Count  Dtype \n",
      "---  ------    --------------  ----- \n",
      " 0   sentence  748 non-null    object\n",
      " 1   target    748 non-null    int64 \n",
      "dtypes: int64(1), object(1)\n",
      "memory usage: 11.8+ KB\n"
     ]
    }
   ],
   "source": [
    "df_imbd.info()"
   ]
  },
  {
   "cell_type": "code",
   "execution_count": 6,
   "id": "7ccccfc5",
   "metadata": {},
   "outputs": [],
   "source": [
    "df_yelp = pd.read_csv(r\"C:\\Andrés\\Sistemas 7to semestre\\Computación y estructuras discretas III\\sentiment labelled sentences\\yelp_labelled.txt\",sep=\"\\t\",header=None,names=['sentence','target'])"
   ]
  },
  {
   "cell_type": "code",
   "execution_count": 7,
   "id": "c7095758",
   "metadata": {},
   "outputs": [
    {
     "name": "stdout",
     "output_type": "stream",
     "text": [
      "<class 'pandas.core.frame.DataFrame'>\n",
      "RangeIndex: 1000 entries, 0 to 999\n",
      "Data columns (total 2 columns):\n",
      " #   Column    Non-Null Count  Dtype \n",
      "---  ------    --------------  ----- \n",
      " 0   sentence  1000 non-null   object\n",
      " 1   target    1000 non-null   int64 \n",
      "dtypes: int64(1), object(1)\n",
      "memory usage: 15.8+ KB\n"
     ]
    }
   ],
   "source": [
    "df_yelp.info()"
   ]
  },
  {
   "cell_type": "code",
   "execution_count": null,
   "id": "425b3bbb",
   "metadata": {},
   "outputs": [],
   "source": []
  }
 ],
 "metadata": {
  "kernelspec": {
   "display_name": "Python 3 (ipykernel)",
   "language": "python",
   "name": "python3"
  },
  "language_info": {
   "codemirror_mode": {
    "name": "ipython",
    "version": 3
   },
   "file_extension": ".py",
   "mimetype": "text/x-python",
   "name": "python",
   "nbconvert_exporter": "python",
   "pygments_lexer": "ipython3",
   "version": "3.9.13"
  }
 },
 "nbformat": 4,
 "nbformat_minor": 5
}
