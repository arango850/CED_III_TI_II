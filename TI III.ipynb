{
  "cells": [
    {
      "cell_type": "code",
      "execution_count": 16,
      "id": "b6c0f553",
      "metadata": {
        "colab": {
          "base_uri": "https://localhost:8080/"
        },
        "id": "b6c0f553",
        "outputId": "2272ef2e-e381-4385-f7f8-74076aec8e3b"
      },
      "outputs": [
        {
          "name": "stderr",
          "output_type": "stream",
          "text": [
            "[nltk_data] Downloading collection 'all'\n",
            "[nltk_data]    | \n",
            "[nltk_data]    | Downloading package abc to C:\\Users\\Andrés\n",
            "[nltk_data]    |     Arango\\AppData\\Roaming\\nltk_data...\n",
            "[nltk_data]    |   Package abc is already up-to-date!\n",
            "[nltk_data]    | Downloading package alpino to C:\\Users\\Andrés\n",
            "[nltk_data]    |     Arango\\AppData\\Roaming\\nltk_data...\n",
            "[nltk_data]    |   Package alpino is already up-to-date!\n",
            "[nltk_data]    | Downloading package averaged_perceptron_tagger to\n",
            "[nltk_data]    |     C:\\Users\\Andrés\n",
            "[nltk_data]    |     Arango\\AppData\\Roaming\\nltk_data...\n",
            "[nltk_data]    |   Package averaged_perceptron_tagger is already up-\n",
            "[nltk_data]    |       to-date!\n",
            "[nltk_data]    | Downloading package averaged_perceptron_tagger_ru to\n",
            "[nltk_data]    |     C:\\Users\\Andrés\n",
            "[nltk_data]    |     Arango\\AppData\\Roaming\\nltk_data...\n",
            "[nltk_data]    |   Package averaged_perceptron_tagger_ru is already\n",
            "[nltk_data]    |       up-to-date!\n",
            "[nltk_data]    | Downloading package basque_grammars to\n",
            "[nltk_data]    |     C:\\Users\\Andrés\n",
            "[nltk_data]    |     Arango\\AppData\\Roaming\\nltk_data...\n",
            "[nltk_data]    |   Package basque_grammars is already up-to-date!\n",
            "[nltk_data]    | Downloading package bcp47 to C:\\Users\\Andrés\n",
            "[nltk_data]    |     Arango\\AppData\\Roaming\\nltk_data...\n",
            "[nltk_data]    |   Package bcp47 is already up-to-date!\n",
            "[nltk_data]    | Downloading package biocreative_ppi to\n",
            "[nltk_data]    |     C:\\Users\\Andrés\n",
            "[nltk_data]    |     Arango\\AppData\\Roaming\\nltk_data...\n",
            "[nltk_data]    |   Package biocreative_ppi is already up-to-date!\n",
            "[nltk_data]    | Downloading package bllip_wsj_no_aux to\n",
            "[nltk_data]    |     C:\\Users\\Andrés\n",
            "[nltk_data]    |     Arango\\AppData\\Roaming\\nltk_data...\n",
            "[nltk_data]    |   Package bllip_wsj_no_aux is already up-to-date!\n",
            "[nltk_data]    | Downloading package book_grammars to C:\\Users\\Andrés\n",
            "[nltk_data]    |     Arango\\AppData\\Roaming\\nltk_data...\n",
            "[nltk_data]    |   Package book_grammars is already up-to-date!\n",
            "[nltk_data]    | Downloading package brown to C:\\Users\\Andrés\n",
            "[nltk_data]    |     Arango\\AppData\\Roaming\\nltk_data...\n",
            "[nltk_data]    |   Package brown is already up-to-date!\n",
            "[nltk_data]    | Downloading package brown_tei to C:\\Users\\Andrés\n",
            "[nltk_data]    |     Arango\\AppData\\Roaming\\nltk_data...\n",
            "[nltk_data]    |   Package brown_tei is already up-to-date!\n",
            "[nltk_data]    | Downloading package cess_cat to C:\\Users\\Andrés\n",
            "[nltk_data]    |     Arango\\AppData\\Roaming\\nltk_data...\n",
            "[nltk_data]    |   Package cess_cat is already up-to-date!\n",
            "[nltk_data]    | Downloading package cess_esp to C:\\Users\\Andrés\n",
            "[nltk_data]    |     Arango\\AppData\\Roaming\\nltk_data...\n",
            "[nltk_data]    |   Package cess_esp is already up-to-date!\n",
            "[nltk_data]    | Downloading package chat80 to C:\\Users\\Andrés\n",
            "[nltk_data]    |     Arango\\AppData\\Roaming\\nltk_data...\n",
            "[nltk_data]    |   Package chat80 is already up-to-date!\n",
            "[nltk_data]    | Downloading package city_database to C:\\Users\\Andrés\n",
            "[nltk_data]    |     Arango\\AppData\\Roaming\\nltk_data...\n",
            "[nltk_data]    |   Package city_database is already up-to-date!\n",
            "[nltk_data]    | Downloading package cmudict to C:\\Users\\Andrés\n",
            "[nltk_data]    |     Arango\\AppData\\Roaming\\nltk_data...\n",
            "[nltk_data]    |   Package cmudict is already up-to-date!\n",
            "[nltk_data]    | Downloading package comparative_sentences to\n",
            "[nltk_data]    |     C:\\Users\\Andrés\n",
            "[nltk_data]    |     Arango\\AppData\\Roaming\\nltk_data...\n",
            "[nltk_data]    |   Package comparative_sentences is already up-to-\n",
            "[nltk_data]    |       date!\n",
            "[nltk_data]    | Downloading package comtrans to C:\\Users\\Andrés\n",
            "[nltk_data]    |     Arango\\AppData\\Roaming\\nltk_data...\n",
            "[nltk_data]    |   Package comtrans is already up-to-date!\n",
            "[nltk_data]    | Downloading package conll2000 to C:\\Users\\Andrés\n",
            "[nltk_data]    |     Arango\\AppData\\Roaming\\nltk_data...\n",
            "[nltk_data]    |   Package conll2000 is already up-to-date!\n",
            "[nltk_data]    | Downloading package conll2002 to C:\\Users\\Andrés\n",
            "[nltk_data]    |     Arango\\AppData\\Roaming\\nltk_data...\n",
            "[nltk_data]    |   Package conll2002 is already up-to-date!\n",
            "[nltk_data]    | Downloading package conll2007 to C:\\Users\\Andrés\n",
            "[nltk_data]    |     Arango\\AppData\\Roaming\\nltk_data...\n",
            "[nltk_data]    |   Package conll2007 is already up-to-date!\n",
            "[nltk_data]    | Downloading package crubadan to C:\\Users\\Andrés\n",
            "[nltk_data]    |     Arango\\AppData\\Roaming\\nltk_data...\n",
            "[nltk_data]    |   Package crubadan is already up-to-date!\n",
            "[nltk_data]    | Downloading package dependency_treebank to\n",
            "[nltk_data]    |     C:\\Users\\Andrés\n",
            "[nltk_data]    |     Arango\\AppData\\Roaming\\nltk_data...\n",
            "[nltk_data]    |   Package dependency_treebank is already up-to-date!\n",
            "[nltk_data]    | Downloading package dolch to C:\\Users\\Andrés\n",
            "[nltk_data]    |     Arango\\AppData\\Roaming\\nltk_data...\n",
            "[nltk_data]    |   Package dolch is already up-to-date!\n",
            "[nltk_data]    | Downloading package europarl_raw to C:\\Users\\Andrés\n",
            "[nltk_data]    |     Arango\\AppData\\Roaming\\nltk_data...\n",
            "[nltk_data]    |   Package europarl_raw is already up-to-date!\n",
            "[nltk_data]    | Downloading package extended_omw to C:\\Users\\Andrés\n",
            "[nltk_data]    |     Arango\\AppData\\Roaming\\nltk_data...\n",
            "[nltk_data]    |   Package extended_omw is already up-to-date!\n",
            "[nltk_data]    | Downloading package floresta to C:\\Users\\Andrés\n",
            "[nltk_data]    |     Arango\\AppData\\Roaming\\nltk_data...\n",
            "[nltk_data]    |   Package floresta is already up-to-date!\n",
            "[nltk_data]    | Downloading package framenet_v15 to C:\\Users\\Andrés\n",
            "[nltk_data]    |     Arango\\AppData\\Roaming\\nltk_data...\n",
            "[nltk_data]    |   Package framenet_v15 is already up-to-date!\n",
            "[nltk_data]    | Downloading package framenet_v17 to C:\\Users\\Andrés\n",
            "[nltk_data]    |     Arango\\AppData\\Roaming\\nltk_data...\n",
            "[nltk_data]    |   Package framenet_v17 is already up-to-date!\n",
            "[nltk_data]    | Downloading package gazetteers to C:\\Users\\Andrés\n",
            "[nltk_data]    |     Arango\\AppData\\Roaming\\nltk_data...\n",
            "[nltk_data]    |   Package gazetteers is already up-to-date!\n",
            "[nltk_data]    | Downloading package genesis to C:\\Users\\Andrés\n",
            "[nltk_data]    |     Arango\\AppData\\Roaming\\nltk_data...\n",
            "[nltk_data]    |   Package genesis is already up-to-date!\n",
            "[nltk_data]    | Downloading package gutenberg to C:\\Users\\Andrés\n",
            "[nltk_data]    |     Arango\\AppData\\Roaming\\nltk_data...\n",
            "[nltk_data]    |   Package gutenberg is already up-to-date!\n",
            "[nltk_data]    | Downloading package ieer to C:\\Users\\Andrés\n",
            "[nltk_data]    |     Arango\\AppData\\Roaming\\nltk_data...\n",
            "[nltk_data]    |   Package ieer is already up-to-date!\n",
            "[nltk_data]    | Downloading package inaugural to C:\\Users\\Andrés\n",
            "[nltk_data]    |     Arango\\AppData\\Roaming\\nltk_data...\n",
            "[nltk_data]    |   Package inaugural is already up-to-date!\n",
            "[nltk_data]    | Downloading package indian to C:\\Users\\Andrés\n",
            "[nltk_data]    |     Arango\\AppData\\Roaming\\nltk_data...\n",
            "[nltk_data]    |   Package indian is already up-to-date!\n",
            "[nltk_data]    | Downloading package jeita to C:\\Users\\Andrés\n",
            "[nltk_data]    |     Arango\\AppData\\Roaming\\nltk_data...\n",
            "[nltk_data]    |   Package jeita is already up-to-date!\n",
            "[nltk_data]    | Downloading package kimmo to C:\\Users\\Andrés\n",
            "[nltk_data]    |     Arango\\AppData\\Roaming\\nltk_data...\n",
            "[nltk_data]    |   Package kimmo is already up-to-date!\n",
            "[nltk_data]    | Downloading package knbc to C:\\Users\\Andrés\n",
            "[nltk_data]    |     Arango\\AppData\\Roaming\\nltk_data...\n",
            "[nltk_data]    |   Package knbc is already up-to-date!\n",
            "[nltk_data]    | Downloading package large_grammars to C:\\Users\\Andrés\n",
            "[nltk_data]    |     Arango\\AppData\\Roaming\\nltk_data...\n",
            "[nltk_data]    |   Package large_grammars is already up-to-date!\n",
            "[nltk_data]    | Downloading package lin_thesaurus to C:\\Users\\Andrés\n",
            "[nltk_data]    |     Arango\\AppData\\Roaming\\nltk_data...\n",
            "[nltk_data]    |   Package lin_thesaurus is already up-to-date!\n",
            "[nltk_data]    | Downloading package mac_morpho to C:\\Users\\Andrés\n",
            "[nltk_data]    |     Arango\\AppData\\Roaming\\nltk_data...\n",
            "[nltk_data]    |   Package mac_morpho is already up-to-date!\n",
            "[nltk_data]    | Downloading package machado to C:\\Users\\Andrés\n",
            "[nltk_data]    |     Arango\\AppData\\Roaming\\nltk_data...\n",
            "[nltk_data]    |   Package machado is already up-to-date!\n",
            "[nltk_data]    | Downloading package masc_tagged to C:\\Users\\Andrés\n",
            "[nltk_data]    |     Arango\\AppData\\Roaming\\nltk_data...\n",
            "[nltk_data]    |   Package masc_tagged is already up-to-date!\n",
            "[nltk_data]    | Downloading package maxent_ne_chunker to\n",
            "[nltk_data]    |     C:\\Users\\Andrés\n",
            "[nltk_data]    |     Arango\\AppData\\Roaming\\nltk_data...\n",
            "[nltk_data]    |   Package maxent_ne_chunker is already up-to-date!\n",
            "[nltk_data]    | Downloading package maxent_treebank_pos_tagger to\n",
            "[nltk_data]    |     C:\\Users\\Andrés\n",
            "[nltk_data]    |     Arango\\AppData\\Roaming\\nltk_data...\n",
            "[nltk_data]    |   Package maxent_treebank_pos_tagger is already up-\n",
            "[nltk_data]    |       to-date!\n",
            "[nltk_data]    | Downloading package moses_sample to C:\\Users\\Andrés\n",
            "[nltk_data]    |     Arango\\AppData\\Roaming\\nltk_data...\n",
            "[nltk_data]    |   Package moses_sample is already up-to-date!\n",
            "[nltk_data]    | Downloading package movie_reviews to C:\\Users\\Andrés\n",
            "[nltk_data]    |     Arango\\AppData\\Roaming\\nltk_data...\n",
            "[nltk_data]    |   Package movie_reviews is already up-to-date!\n",
            "[nltk_data]    | Downloading package mte_teip5 to C:\\Users\\Andrés\n",
            "[nltk_data]    |     Arango\\AppData\\Roaming\\nltk_data...\n",
            "[nltk_data]    |   Package mte_teip5 is already up-to-date!\n",
            "[nltk_data]    | Downloading package mwa_ppdb to C:\\Users\\Andrés\n",
            "[nltk_data]    |     Arango\\AppData\\Roaming\\nltk_data...\n",
            "[nltk_data]    |   Package mwa_ppdb is already up-to-date!\n",
            "[nltk_data]    | Downloading package names to C:\\Users\\Andrés\n",
            "[nltk_data]    |     Arango\\AppData\\Roaming\\nltk_data...\n",
            "[nltk_data]    |   Package names is already up-to-date!\n",
            "[nltk_data]    | Downloading package nombank.1.0 to C:\\Users\\Andrés\n",
            "[nltk_data]    |     Arango\\AppData\\Roaming\\nltk_data...\n",
            "[nltk_data]    |   Package nombank.1.0 is already up-to-date!\n",
            "[nltk_data]    | Downloading package nonbreaking_prefixes to\n",
            "[nltk_data]    |     C:\\Users\\Andrés\n",
            "[nltk_data]    |     Arango\\AppData\\Roaming\\nltk_data...\n",
            "[nltk_data]    |   Package nonbreaking_prefixes is already up-to-date!\n",
            "[nltk_data]    | Downloading package nps_chat to C:\\Users\\Andrés\n",
            "[nltk_data]    |     Arango\\AppData\\Roaming\\nltk_data...\n",
            "[nltk_data]    |   Package nps_chat is already up-to-date!\n",
            "[nltk_data]    | Downloading package omw to C:\\Users\\Andrés\n",
            "[nltk_data]    |     Arango\\AppData\\Roaming\\nltk_data...\n",
            "[nltk_data]    |   Package omw is already up-to-date!\n",
            "[nltk_data]    | Downloading package omw-1.4 to C:\\Users\\Andrés\n",
            "[nltk_data]    |     Arango\\AppData\\Roaming\\nltk_data...\n",
            "[nltk_data]    |   Package omw-1.4 is already up-to-date!\n",
            "[nltk_data]    | Downloading package opinion_lexicon to\n",
            "[nltk_data]    |     C:\\Users\\Andrés\n",
            "[nltk_data]    |     Arango\\AppData\\Roaming\\nltk_data...\n",
            "[nltk_data]    |   Package opinion_lexicon is already up-to-date!\n",
            "[nltk_data]    | Downloading package panlex_swadesh to C:\\Users\\Andrés\n",
            "[nltk_data]    |     Arango\\AppData\\Roaming\\nltk_data...\n",
            "[nltk_data]    |   Package panlex_swadesh is already up-to-date!\n",
            "[nltk_data]    | Downloading package paradigms to C:\\Users\\Andrés\n",
            "[nltk_data]    |     Arango\\AppData\\Roaming\\nltk_data...\n",
            "[nltk_data]    |   Package paradigms is already up-to-date!\n",
            "[nltk_data]    | Downloading package pe08 to C:\\Users\\Andrés\n",
            "[nltk_data]    |     Arango\\AppData\\Roaming\\nltk_data...\n",
            "[nltk_data]    |   Package pe08 is already up-to-date!\n",
            "[nltk_data]    | Downloading package perluniprops to C:\\Users\\Andrés\n",
            "[nltk_data]    |     Arango\\AppData\\Roaming\\nltk_data...\n",
            "[nltk_data]    |   Package perluniprops is already up-to-date!\n",
            "[nltk_data]    | Downloading package pil to C:\\Users\\Andrés\n",
            "[nltk_data]    |     Arango\\AppData\\Roaming\\nltk_data...\n",
            "[nltk_data]    |   Package pil is already up-to-date!\n",
            "[nltk_data]    | Downloading package pl196x to C:\\Users\\Andrés\n",
            "[nltk_data]    |     Arango\\AppData\\Roaming\\nltk_data...\n",
            "[nltk_data]    |   Package pl196x is already up-to-date!\n",
            "[nltk_data]    | Downloading package porter_test to C:\\Users\\Andrés\n",
            "[nltk_data]    |     Arango\\AppData\\Roaming\\nltk_data...\n",
            "[nltk_data]    |   Package porter_test is already up-to-date!\n",
            "[nltk_data]    | Downloading package ppattach to C:\\Users\\Andrés\n",
            "[nltk_data]    |     Arango\\AppData\\Roaming\\nltk_data...\n",
            "[nltk_data]    |   Package ppattach is already up-to-date!\n",
            "[nltk_data]    | Downloading package problem_reports to\n",
            "[nltk_data]    |     C:\\Users\\Andrés\n",
            "[nltk_data]    |     Arango\\AppData\\Roaming\\nltk_data...\n",
            "[nltk_data]    |   Package problem_reports is already up-to-date!\n",
            "[nltk_data]    | Downloading package product_reviews_1 to\n",
            "[nltk_data]    |     C:\\Users\\Andrés\n",
            "[nltk_data]    |     Arango\\AppData\\Roaming\\nltk_data...\n",
            "[nltk_data]    |   Package product_reviews_1 is already up-to-date!\n",
            "[nltk_data]    | Downloading package product_reviews_2 to\n",
            "[nltk_data]    |     C:\\Users\\Andrés\n",
            "[nltk_data]    |     Arango\\AppData\\Roaming\\nltk_data...\n",
            "[nltk_data]    |   Package product_reviews_2 is already up-to-date!\n",
            "[nltk_data]    | Downloading package propbank to C:\\Users\\Andrés\n",
            "[nltk_data]    |     Arango\\AppData\\Roaming\\nltk_data...\n",
            "[nltk_data]    |   Package propbank is already up-to-date!\n",
            "[nltk_data]    | Downloading package pros_cons to C:\\Users\\Andrés\n",
            "[nltk_data]    |     Arango\\AppData\\Roaming\\nltk_data...\n",
            "[nltk_data]    |   Package pros_cons is already up-to-date!\n",
            "[nltk_data]    | Downloading package ptb to C:\\Users\\Andrés\n",
            "[nltk_data]    |     Arango\\AppData\\Roaming\\nltk_data...\n",
            "[nltk_data]    |   Package ptb is already up-to-date!\n",
            "[nltk_data]    | Downloading package punkt to C:\\Users\\Andrés\n",
            "[nltk_data]    |     Arango\\AppData\\Roaming\\nltk_data...\n",
            "[nltk_data]    |   Package punkt is already up-to-date!\n",
            "[nltk_data]    | Downloading package qc to C:\\Users\\Andrés\n",
            "[nltk_data]    |     Arango\\AppData\\Roaming\\nltk_data...\n",
            "[nltk_data]    |   Package qc is already up-to-date!\n",
            "[nltk_data]    | Downloading package reuters to C:\\Users\\Andrés\n",
            "[nltk_data]    |     Arango\\AppData\\Roaming\\nltk_data...\n",
            "[nltk_data]    |   Package reuters is already up-to-date!\n",
            "[nltk_data]    | Downloading package rslp to C:\\Users\\Andrés\n",
            "[nltk_data]    |     Arango\\AppData\\Roaming\\nltk_data...\n",
            "[nltk_data]    |   Package rslp is already up-to-date!\n",
            "[nltk_data]    | Downloading package rte to C:\\Users\\Andrés\n",
            "[nltk_data]    |     Arango\\AppData\\Roaming\\nltk_data...\n",
            "[nltk_data]    |   Package rte is already up-to-date!\n",
            "[nltk_data]    | Downloading package sample_grammars to\n",
            "[nltk_data]    |     C:\\Users\\Andrés\n",
            "[nltk_data]    |     Arango\\AppData\\Roaming\\nltk_data...\n",
            "[nltk_data]    |   Package sample_grammars is already up-to-date!\n",
            "[nltk_data]    | Downloading package semcor to C:\\Users\\Andrés\n",
            "[nltk_data]    |     Arango\\AppData\\Roaming\\nltk_data...\n",
            "[nltk_data]    |   Package semcor is already up-to-date!\n",
            "[nltk_data]    | Downloading package senseval to C:\\Users\\Andrés\n",
            "[nltk_data]    |     Arango\\AppData\\Roaming\\nltk_data...\n",
            "[nltk_data]    |   Package senseval is already up-to-date!\n",
            "[nltk_data]    | Downloading package sentence_polarity to\n",
            "[nltk_data]    |     C:\\Users\\Andrés\n",
            "[nltk_data]    |     Arango\\AppData\\Roaming\\nltk_data...\n",
            "[nltk_data]    |   Package sentence_polarity is already up-to-date!\n",
            "[nltk_data]    | Downloading package sentiwordnet to C:\\Users\\Andrés\n",
            "[nltk_data]    |     Arango\\AppData\\Roaming\\nltk_data...\n",
            "[nltk_data]    |   Package sentiwordnet is already up-to-date!\n",
            "[nltk_data]    | Downloading package shakespeare to C:\\Users\\Andrés\n",
            "[nltk_data]    |     Arango\\AppData\\Roaming\\nltk_data...\n",
            "[nltk_data]    |   Package shakespeare is already up-to-date!\n",
            "[nltk_data]    | Downloading package sinica_treebank to\n",
            "[nltk_data]    |     C:\\Users\\Andrés\n",
            "[nltk_data]    |     Arango\\AppData\\Roaming\\nltk_data...\n",
            "[nltk_data]    |   Package sinica_treebank is already up-to-date!\n",
            "[nltk_data]    | Downloading package smultron to C:\\Users\\Andrés\n",
            "[nltk_data]    |     Arango\\AppData\\Roaming\\nltk_data...\n",
            "[nltk_data]    |   Package smultron is already up-to-date!\n",
            "[nltk_data]    | Downloading package snowball_data to C:\\Users\\Andrés\n",
            "[nltk_data]    |     Arango\\AppData\\Roaming\\nltk_data...\n",
            "[nltk_data]    |   Package snowball_data is already up-to-date!\n",
            "[nltk_data]    | Downloading package spanish_grammars to\n",
            "[nltk_data]    |     C:\\Users\\Andrés\n",
            "[nltk_data]    |     Arango\\AppData\\Roaming\\nltk_data...\n",
            "[nltk_data]    |   Package spanish_grammars is already up-to-date!\n",
            "[nltk_data]    | Downloading package state_union to C:\\Users\\Andrés\n",
            "[nltk_data]    |     Arango\\AppData\\Roaming\\nltk_data...\n",
            "[nltk_data]    |   Package state_union is already up-to-date!\n",
            "[nltk_data]    | Downloading package stopwords to C:\\Users\\Andrés\n",
            "[nltk_data]    |     Arango\\AppData\\Roaming\\nltk_data...\n",
            "[nltk_data]    |   Package stopwords is already up-to-date!\n",
            "[nltk_data]    | Downloading package subjectivity to C:\\Users\\Andrés\n",
            "[nltk_data]    |     Arango\\AppData\\Roaming\\nltk_data...\n",
            "[nltk_data]    |   Package subjectivity is already up-to-date!\n",
            "[nltk_data]    | Downloading package swadesh to C:\\Users\\Andrés\n",
            "[nltk_data]    |     Arango\\AppData\\Roaming\\nltk_data...\n",
            "[nltk_data]    |   Package swadesh is already up-to-date!\n",
            "[nltk_data]    | Downloading package switchboard to C:\\Users\\Andrés\n",
            "[nltk_data]    |     Arango\\AppData\\Roaming\\nltk_data...\n",
            "[nltk_data]    |   Package switchboard is already up-to-date!\n",
            "[nltk_data]    | Downloading package tagsets to C:\\Users\\Andrés\n",
            "[nltk_data]    |     Arango\\AppData\\Roaming\\nltk_data...\n",
            "[nltk_data]    |   Package tagsets is already up-to-date!\n",
            "[nltk_data]    | Downloading package timit to C:\\Users\\Andrés\n",
            "[nltk_data]    |     Arango\\AppData\\Roaming\\nltk_data...\n",
            "[nltk_data]    |   Package timit is already up-to-date!\n",
            "[nltk_data]    | Downloading package toolbox to C:\\Users\\Andrés\n",
            "[nltk_data]    |     Arango\\AppData\\Roaming\\nltk_data...\n",
            "[nltk_data]    |   Package toolbox is already up-to-date!\n",
            "[nltk_data]    | Downloading package treebank to C:\\Users\\Andrés\n",
            "[nltk_data]    |     Arango\\AppData\\Roaming\\nltk_data...\n",
            "[nltk_data]    |   Package treebank is already up-to-date!\n",
            "[nltk_data]    | Downloading package twitter_samples to\n",
            "[nltk_data]    |     C:\\Users\\Andrés\n",
            "[nltk_data]    |     Arango\\AppData\\Roaming\\nltk_data...\n",
            "[nltk_data]    |   Package twitter_samples is already up-to-date!\n",
            "[nltk_data]    | Downloading package udhr to C:\\Users\\Andrés\n",
            "[nltk_data]    |     Arango\\AppData\\Roaming\\nltk_data...\n",
            "[nltk_data]    |   Package udhr is already up-to-date!\n",
            "[nltk_data]    | Downloading package udhr2 to C:\\Users\\Andrés\n",
            "[nltk_data]    |     Arango\\AppData\\Roaming\\nltk_data...\n",
            "[nltk_data]    |   Package udhr2 is already up-to-date!\n",
            "[nltk_data]    | Downloading package unicode_samples to\n",
            "[nltk_data]    |     C:\\Users\\Andrés\n",
            "[nltk_data]    |     Arango\\AppData\\Roaming\\nltk_data...\n",
            "[nltk_data]    |   Package unicode_samples is already up-to-date!\n",
            "[nltk_data]    | Downloading package universal_tagset to\n",
            "[nltk_data]    |     C:\\Users\\Andrés\n",
            "[nltk_data]    |     Arango\\AppData\\Roaming\\nltk_data...\n",
            "[nltk_data]    |   Package universal_tagset is already up-to-date!\n",
            "[nltk_data]    | Downloading package universal_treebanks_v20 to\n",
            "[nltk_data]    |     C:\\Users\\Andrés\n",
            "[nltk_data]    |     Arango\\AppData\\Roaming\\nltk_data...\n",
            "[nltk_data]    |   Package universal_treebanks_v20 is already up-to-\n",
            "[nltk_data]    |       date!\n",
            "[nltk_data]    | Downloading package vader_lexicon to C:\\Users\\Andrés\n",
            "[nltk_data]    |     Arango\\AppData\\Roaming\\nltk_data...\n",
            "[nltk_data]    |   Package vader_lexicon is already up-to-date!\n",
            "[nltk_data]    | Downloading package verbnet to C:\\Users\\Andrés\n",
            "[nltk_data]    |     Arango\\AppData\\Roaming\\nltk_data...\n",
            "[nltk_data]    |   Package verbnet is already up-to-date!\n",
            "[nltk_data]    | Downloading package verbnet3 to C:\\Users\\Andrés\n",
            "[nltk_data]    |     Arango\\AppData\\Roaming\\nltk_data...\n",
            "[nltk_data]    |   Package verbnet3 is already up-to-date!\n",
            "[nltk_data]    | Downloading package webtext to C:\\Users\\Andrés\n",
            "[nltk_data]    |     Arango\\AppData\\Roaming\\nltk_data...\n",
            "[nltk_data]    |   Package webtext is already up-to-date!\n",
            "[nltk_data]    | Downloading package wmt15_eval to C:\\Users\\Andrés\n",
            "[nltk_data]    |     Arango\\AppData\\Roaming\\nltk_data...\n",
            "[nltk_data]    |   Package wmt15_eval is already up-to-date!\n",
            "[nltk_data]    | Downloading package word2vec_sample to\n",
            "[nltk_data]    |     C:\\Users\\Andrés\n",
            "[nltk_data]    |     Arango\\AppData\\Roaming\\nltk_data...\n",
            "[nltk_data]    |   Package word2vec_sample is already up-to-date!\n",
            "[nltk_data]    | Downloading package wordnet to C:\\Users\\Andrés\n",
            "[nltk_data]    |     Arango\\AppData\\Roaming\\nltk_data...\n",
            "[nltk_data]    |   Package wordnet is already up-to-date!\n",
            "[nltk_data]    | Downloading package wordnet2021 to C:\\Users\\Andrés\n",
            "[nltk_data]    |     Arango\\AppData\\Roaming\\nltk_data...\n",
            "[nltk_data]    |   Package wordnet2021 is already up-to-date!\n",
            "[nltk_data]    | Downloading package wordnet2022 to C:\\Users\\Andrés\n",
            "[nltk_data]    |     Arango\\AppData\\Roaming\\nltk_data...\n",
            "[nltk_data]    |   Package wordnet2022 is already up-to-date!\n",
            "[nltk_data]    | Downloading package wordnet31 to C:\\Users\\Andrés\n",
            "[nltk_data]    |     Arango\\AppData\\Roaming\\nltk_data...\n",
            "[nltk_data]    |   Package wordnet31 is already up-to-date!\n",
            "[nltk_data]    | Downloading package wordnet_ic to C:\\Users\\Andrés\n",
            "[nltk_data]    |     Arango\\AppData\\Roaming\\nltk_data...\n",
            "[nltk_data]    |   Package wordnet_ic is already up-to-date!\n",
            "[nltk_data]    | Downloading package words to C:\\Users\\Andrés\n",
            "[nltk_data]    |     Arango\\AppData\\Roaming\\nltk_data...\n",
            "[nltk_data]    |   Package words is already up-to-date!\n",
            "[nltk_data]    | Downloading package ycoe to C:\\Users\\Andrés\n",
            "[nltk_data]    |     Arango\\AppData\\Roaming\\nltk_data...\n",
            "[nltk_data]    |   Package ycoe is already up-to-date!\n",
            "[nltk_data]    | \n",
            "[nltk_data]  Done downloading collection all\n"
          ]
        }
      ],
      "source": [
        "import pandas as pd\n",
        "import warnings\n",
        "warnings.simplefilter(\"ignore\")\n",
        "import nltk\n",
        "nltk.download('all')\n",
        "from nltk.corpus import stopwords\n",
        "from nltk.tokenize import word_tokenize\n",
        "from nltk.stem import WordNetLemmatizer\n",
        "import matplotlib.pyplot as plt\n",
        "import seaborn as sns\n",
        "#from google.colab import files"
      ]
    },
    {
      "cell_type": "code",
      "execution_count": 2,
      "id": "321c6477",
      "metadata": {
        "colab": {
          "base_uri": "https://localhost:8080/",
          "height": 142
        },
        "id": "321c6477",
        "outputId": "1897b8d9-81a5-4ecc-ff47-b239161a3103"
      },
      "outputs": [],
      "source": [
        "#csv = files.upload()\n",
        "\n"
      ]
    },
    {
      "cell_type": "code",
      "execution_count": 2,
      "id": "9LJBuZCdUrbU",
      "metadata": {
        "id": "9LJBuZCdUrbU"
      },
      "outputs": [],
      "source": [
        "df_amazon = pd.read_csv(r\"sentiment labelled sentences\\amazon_cells_labelled.txt\",sep=\"\\t\",header=None,names=['sentence','target'])"
      ]
    },
    {
      "cell_type": "code",
      "execution_count": 3,
      "id": "923053d3",
      "metadata": {
        "colab": {
          "base_uri": "https://localhost:8080/"
        },
        "id": "923053d3",
        "outputId": "f9c36adc-4af6-43c3-e00f-822b9d78117a"
      },
      "outputs": [
        {
          "name": "stdout",
          "output_type": "stream",
          "text": [
            "<class 'pandas.core.frame.DataFrame'>\n",
            "RangeIndex: 1000 entries, 0 to 999\n",
            "Data columns (total 2 columns):\n",
            " #   Column    Non-Null Count  Dtype \n",
            "---  ------    --------------  ----- \n",
            " 0   sentence  1000 non-null   object\n",
            " 1   target    1000 non-null   int64 \n",
            "dtypes: int64(1), object(1)\n",
            "memory usage: 15.8+ KB\n"
          ]
        }
      ],
      "source": [
        "df_amazon.info()"
      ]
    },
    {
      "cell_type": "code",
      "execution_count": 4,
      "id": "ae9fb19e",
      "metadata": {
        "id": "ae9fb19e"
      },
      "outputs": [],
      "source": [
        "df_imbd = pd.read_csv(r\"sentiment labelled sentences\\imdb_labelled.txt\",sep=\"\\t\",header=None,names=['sentence','target'])"
      ]
    },
    {
      "cell_type": "code",
      "execution_count": 5,
      "id": "c7f773be",
      "metadata": {
        "colab": {
          "base_uri": "https://localhost:8080/"
        },
        "id": "c7f773be",
        "outputId": "98aaef79-cf44-4f07-d755-406f25e5e0f1"
      },
      "outputs": [
        {
          "name": "stdout",
          "output_type": "stream",
          "text": [
            "<class 'pandas.core.frame.DataFrame'>\n",
            "RangeIndex: 748 entries, 0 to 747\n",
            "Data columns (total 2 columns):\n",
            " #   Column    Non-Null Count  Dtype \n",
            "---  ------    --------------  ----- \n",
            " 0   sentence  748 non-null    object\n",
            " 1   target    748 non-null    int64 \n",
            "dtypes: int64(1), object(1)\n",
            "memory usage: 11.8+ KB\n"
          ]
        }
      ],
      "source": [
        "df_imbd.info()"
      ]
    },
    {
      "cell_type": "code",
      "execution_count": 8,
      "id": "7ccccfc5",
      "metadata": {
        "id": "7ccccfc5"
      },
      "outputs": [],
      "source": [
        "df_yelp = pd.read_csv(r\"sentiment labelled sentences\\yelp_labelled.txt\",sep=\"\\t\",header=None,names=['sentence','target'])"
      ]
    },
    {
      "cell_type": "code",
      "execution_count": 9,
      "id": "c7095758",
      "metadata": {
        "colab": {
          "base_uri": "https://localhost:8080/"
        },
        "id": "c7095758",
        "outputId": "6be15788-efda-4e01-dcdf-e087399c3e76"
      },
      "outputs": [
        {
          "name": "stdout",
          "output_type": "stream",
          "text": [
            "<class 'pandas.core.frame.DataFrame'>\n",
            "RangeIndex: 1000 entries, 0 to 999\n",
            "Data columns (total 2 columns):\n",
            " #   Column    Non-Null Count  Dtype \n",
            "---  ------    --------------  ----- \n",
            " 0   sentence  1000 non-null   object\n",
            " 1   target    1000 non-null   int64 \n",
            "dtypes: int64(1), object(1)\n",
            "memory usage: 15.8+ KB\n"
          ]
        }
      ],
      "source": [
        "df_yelp.info()"
      ]
    },
    {
      "cell_type": "code",
      "execution_count": 10,
      "id": "03128be7",
      "metadata": {
        "id": "03128be7"
      },
      "outputs": [],
      "source": [
        "df_sub1 = df_amazon.append(df_imbd,ignore_index=True)\n",
        "df= df_sub1.append(df_yelp,ignore_index=True)"
      ]
    },
    {
      "cell_type": "code",
      "execution_count": 11,
      "id": "cc44fc95",
      "metadata": {
        "colab": {
          "base_uri": "https://localhost:8080/"
        },
        "id": "cc44fc95",
        "outputId": "555dffad-b36c-4be5-9d81-523c8794d851"
      },
      "outputs": [
        {
          "name": "stdout",
          "output_type": "stream",
          "text": [
            "<class 'pandas.core.frame.DataFrame'>\n",
            "RangeIndex: 2748 entries, 0 to 2747\n",
            "Data columns (total 2 columns):\n",
            " #   Column    Non-Null Count  Dtype \n",
            "---  ------    --------------  ----- \n",
            " 0   sentence  2748 non-null   object\n",
            " 1   target    2748 non-null   int64 \n",
            "dtypes: int64(1), object(1)\n",
            "memory usage: 43.1+ KB\n"
          ]
        }
      ],
      "source": [
        "df.info()"
      ]
    },
    {
      "cell_type": "code",
      "execution_count": 12,
      "id": "c50896cb",
      "metadata": {
        "colab": {
          "base_uri": "https://localhost:8080/",
          "height": 206
        },
        "id": "c50896cb",
        "outputId": "75d9908e-b591-48a4-f626-75e726dccf15"
      },
      "outputs": [
        {
          "data": {
            "text/html": [
              "<div>\n",
              "<style scoped>\n",
              "    .dataframe tbody tr th:only-of-type {\n",
              "        vertical-align: middle;\n",
              "    }\n",
              "\n",
              "    .dataframe tbody tr th {\n",
              "        vertical-align: top;\n",
              "    }\n",
              "\n",
              "    .dataframe thead th {\n",
              "        text-align: right;\n",
              "    }\n",
              "</style>\n",
              "<table border=\"1\" class=\"dataframe\">\n",
              "  <thead>\n",
              "    <tr style=\"text-align: right;\">\n",
              "      <th></th>\n",
              "      <th>sentence</th>\n",
              "      <th>target</th>\n",
              "    </tr>\n",
              "  </thead>\n",
              "  <tbody>\n",
              "    <tr>\n",
              "      <th>0</th>\n",
              "      <td>So there is no way for me to plug it in here i...</td>\n",
              "      <td>0</td>\n",
              "    </tr>\n",
              "    <tr>\n",
              "      <th>1</th>\n",
              "      <td>Good case, Excellent value.</td>\n",
              "      <td>1</td>\n",
              "    </tr>\n",
              "    <tr>\n",
              "      <th>2</th>\n",
              "      <td>Great for the jawbone.</td>\n",
              "      <td>1</td>\n",
              "    </tr>\n",
              "    <tr>\n",
              "      <th>3</th>\n",
              "      <td>Tied to charger for conversations lasting more...</td>\n",
              "      <td>0</td>\n",
              "    </tr>\n",
              "    <tr>\n",
              "      <th>4</th>\n",
              "      <td>The mic is great.</td>\n",
              "      <td>1</td>\n",
              "    </tr>\n",
              "  </tbody>\n",
              "</table>\n",
              "</div>"
            ],
            "text/plain": [
              "                                            sentence  target\n",
              "0  So there is no way for me to plug it in here i...       0\n",
              "1                        Good case, Excellent value.       1\n",
              "2                             Great for the jawbone.       1\n",
              "3  Tied to charger for conversations lasting more...       0\n",
              "4                                  The mic is great.       1"
            ]
          },
          "execution_count": 12,
          "metadata": {},
          "output_type": "execute_result"
        }
      ],
      "source": [
        "df.head()"
      ]
    },
    {
      "cell_type": "code",
      "execution_count": 20,
      "metadata": {},
      "outputs": [
        {
          "data": {
            "image/png": "[encoded data removed]",
            "text/plain": [
              "<Figure size 1500x500 with 1 Axes>"
            ]
          },
          "metadata": {},
          "output_type": "display_data"
        }
      ],
      "source": [
        "conteo =df[\"target\"].value_counts()\n",
        "plt.figure(figsize=(15,5))\n",
        "plt.pie(conteo, labels=[\"Falso\",\"Verdadero\"], autopct='%1.1f%%', startangle=140, colors=sns.color_palette('pastel'))\n",
        "plt.title(\"Clasificación de verdadero y falso\")\n",
        "plt.show()"
      ]
    },
    {
      "cell_type": "code",
      "execution_count": 13,
      "id": "547aebff",
      "metadata": {
        "id": "547aebff"
      },
      "outputs": [],
      "source": [
        "def preprocess_text(text):\n",
        "    lemmatizer = WordNetLemmatizer()\n",
        "    tokens = word_tokenize(text)\n",
        "    # Pase el texto a minúscula\n",
        "    tokens = [token.lower() for token in tokens]\n",
        "    stop_words = set(stopwords.words('english'))\n",
        "    tokens = [token for token in tokens if token not in stop_words]\n",
        "    tokens = [lemmatizer.lemmatize(token) for token in tokens]\n",
        "    processed_text = ' '.join(tokens)\n",
        "    return processed_text"
      ]
    },
    {
      "cell_type": "code",
      "execution_count": 14,
      "id": "91155b74",
      "metadata": {
        "id": "91155b74"
      },
      "outputs": [],
      "source": [
        "df['sentence'] = df['sentence'].apply(preprocess_text)"
      ]
    },
    {
      "cell_type": "code",
      "execution_count": 15,
      "id": "33bf0067",
      "metadata": {
        "id": "33bf0067"
      },
      "outputs": [
        {
          "data": {
            "text/html": [
              "<div>\n",
              "<style scoped>\n",
              "    .dataframe tbody tr th:only-of-type {\n",
              "        vertical-align: middle;\n",
              "    }\n",
              "\n",
              "    .dataframe tbody tr th {\n",
              "        vertical-align: top;\n",
              "    }\n",
              "\n",
              "    .dataframe thead th {\n",
              "        text-align: right;\n",
              "    }\n",
              "</style>\n",
              "<table border=\"1\" class=\"dataframe\">\n",
              "  <thead>\n",
              "    <tr style=\"text-align: right;\">\n",
              "      <th></th>\n",
              "      <th>sentence</th>\n",
              "      <th>target</th>\n",
              "    </tr>\n",
              "  </thead>\n",
              "  <tbody>\n",
              "    <tr>\n",
              "      <th>0</th>\n",
              "      <td>way plug u unless go converter .</td>\n",
              "      <td>0</td>\n",
              "    </tr>\n",
              "    <tr>\n",
              "      <th>1</th>\n",
              "      <td>good case , excellent value .</td>\n",
              "      <td>1</td>\n",
              "    </tr>\n",
              "    <tr>\n",
              "      <th>2</th>\n",
              "      <td>great jawbone .</td>\n",
              "      <td>1</td>\n",
              "    </tr>\n",
              "    <tr>\n",
              "      <th>3</th>\n",
              "      <td>tied charger conversation lasting 45 minutes.m...</td>\n",
              "      <td>0</td>\n",
              "    </tr>\n",
              "    <tr>\n",
              "      <th>4</th>\n",
              "      <td>mic great .</td>\n",
              "      <td>1</td>\n",
              "    </tr>\n",
              "  </tbody>\n",
              "</table>\n",
              "</div>"
            ],
            "text/plain": [
              "                                            sentence  target\n",
              "0                   way plug u unless go converter .       0\n",
              "1                      good case , excellent value .       1\n",
              "2                                    great jawbone .       1\n",
              "3  tied charger conversation lasting 45 minutes.m...       0\n",
              "4                                        mic great .       1"
            ]
          },
          "execution_count": 15,
          "metadata": {},
          "output_type": "execute_result"
        }
      ],
      "source": [
        "df.head()"
      ]
    },
    {
      "cell_type": "code",
      "execution_count": 15,
      "id": "082bd76f",
      "metadata": {
        "id": "082bd76f"
      },
      "outputs": [],
      "source": [
        "from sklearn.model_selection import train_test_split\n",
        "from sklearn.preprocessing import LabelEncoder\n",
        "\n",
        "# Obtenga su X y su y\n",
        "X = df['sentence']\n",
        "y = df['target']\n",
        "\n",
        "# Codifique su y\n",
        "label_encoder = LabelEncoder()\n",
        "y = label_encoder.fit_transform(y)\n",
        "# Particione el conjunto en entrenamiento y prueba con train_test_split\n",
        "X_train, X_test, y_train, y_test = train_test_split(X, y, test_size=0.8, random_state=42, train_size=0.2)"
      ]
    },
    {
      "cell_type": "code",
      "execution_count": 16,
      "id": "0aca8174",
      "metadata": {
        "id": "0aca8174"
      },
      "outputs": [],
      "source": [
        "from keras.preprocessing.text import Tokenizer\n",
        "from keras.utils import pad_sequences\n",
        "\n",
        "# Hágale padding a sus secuencias y obtenga aquellas para entrenamiento y aquellas para prueba\n",
        "\n",
        "max_words = 10000\n",
        "max_len = 100\n",
        "tok = Tokenizer(num_words=max_words)\n",
        "tok.fit_on_texts(X_train)\n",
        "sequences_train = tok.texts_to_sequences(X_train)\n",
        "sequences_test = tok.texts_to_sequences(X_test)\n",
        "sequences_matrix_train = pad_sequences(sequences_train,maxlen=max_len)\n",
        "sequences_matrix_test = pad_sequences(sequences_test,maxlen=max_len)"
      ]
    },
    {
      "cell_type": "code",
      "execution_count": 39,
      "metadata": {},
      "outputs": [],
      "source": [
        "from sklearn.dummy import DummyClassifier\n",
        "from sklearn.metrics import accuracy_score, precision_score, recall_score, f1_score, make_scorer"
      ]
    },
    {
      "cell_type": "code",
      "execution_count": 18,
      "metadata": {},
      "outputs": [
        {
          "data": {
            "text/html": [
              "<style>#sk-container-id-1 {color: black;background-color: white;}#sk-container-id-1 pre{padding: 0;}#sk-container-id-1 div.sk-toggleable {background-color: white;}#sk-container-id-1 label.sk-toggleable__label {cursor: pointer;display: block;width: 100%;margin-bottom: 0;padding: 0.3em;box-sizing: border-box;text-align: center;}#sk-container-id-1 label.sk-toggleable__label-arrow:before {content: \"▸\";float: left;margin-right: 0.25em;color: #696969;}#sk-container-id-1 label.sk-toggleable__label-arrow:hover:before {color: black;}#sk-container-id-1 div.sk-estimator:hover label.sk-toggleable__label-arrow:before {color: black;}#sk-container-id-1 div.sk-toggleable__content {max-height: 0;max-width: 0;overflow: hidden;text-align: left;background-color: #f0f8ff;}#sk-container-id-1 div.sk-toggleable__content pre {margin: 0.2em;color: black;border-radius: 0.25em;background-color: #f0f8ff;}#sk-container-id-1 input.sk-toggleable__control:checked~div.sk-toggleable__content {max-height: 200px;max-width: 100%;overflow: auto;}#sk-container-id-1 input.sk-toggleable__control:checked~label.sk-toggleable__label-arrow:before {content: \"▾\";}#sk-container-id-1 div.sk-estimator input.sk-toggleable__control:checked~label.sk-toggleable__label {background-color: #d4ebff;}#sk-container-id-1 div.sk-label input.sk-toggleable__control:checked~label.sk-toggleable__label {background-color: #d4ebff;}#sk-container-id-1 input.sk-hidden--visually {border: 0;clip: rect(1px 1px 1px 1px);clip: rect(1px, 1px, 1px, 1px);height: 1px;margin: -1px;overflow: hidden;padding: 0;position: absolute;width: 1px;}#sk-container-id-1 div.sk-estimator {font-family: monospace;background-color: #f0f8ff;border: 1px dotted black;border-radius: 0.25em;box-sizing: border-box;margin-bottom: 0.5em;}#sk-container-id-1 div.sk-estimator:hover {background-color: #d4ebff;}#sk-container-id-1 div.sk-parallel-item::after {content: \"\";width: 100%;border-bottom: 1px solid gray;flex-grow: 1;}#sk-container-id-1 div.sk-label:hover label.sk-toggleable__label {background-color: #d4ebff;}#sk-container-id-1 div.sk-serial::before {content: \"\";position: absolute;border-left: 1px solid gray;box-sizing: border-box;top: 0;bottom: 0;left: 50%;z-index: 0;}#sk-container-id-1 div.sk-serial {display: flex;flex-direction: column;align-items: center;background-color: white;padding-right: 0.2em;padding-left: 0.2em;position: relative;}#sk-container-id-1 div.sk-item {position: relative;z-index: 1;}#sk-container-id-1 div.sk-parallel {display: flex;align-items: stretch;justify-content: center;background-color: white;position: relative;}#sk-container-id-1 div.sk-item::before, #sk-container-id-1 div.sk-parallel-item::before {content: \"\";position: absolute;border-left: 1px solid gray;box-sizing: border-box;top: 0;bottom: 0;left: 50%;z-index: -1;}#sk-container-id-1 div.sk-parallel-item {display: flex;flex-direction: column;z-index: 1;position: relative;background-color: white;}#sk-container-id-1 div.sk-parallel-item:first-child::after {align-self: flex-end;width: 50%;}#sk-container-id-1 div.sk-parallel-item:last-child::after {align-self: flex-start;width: 50%;}#sk-container-id-1 div.sk-parallel-item:only-child::after {width: 0;}#sk-container-id-1 div.sk-dashed-wrapped {border: 1px dashed gray;margin: 0 0.4em 0.5em 0.4em;box-sizing: border-box;padding-bottom: 0.4em;background-color: white;}#sk-container-id-1 div.sk-label label {font-family: monospace;font-weight: bold;display: inline-block;line-height: 1.2em;}#sk-container-id-1 div.sk-label-container {text-align: center;}#sk-container-id-1 div.sk-container {/* jupyter's `normalize.less` sets `[hidden] { display: none; }` but bootstrap.min.css set `[hidden] { display: none !important; }` so we also need the `!important` here to be able to override the default hidden behavior on the sphinx rendered scikit-learn.org. See: https://github.com/scikit-learn/scikit-learn/issues/21755 */display: inline-block !important;position: relative;}#sk-container-id-1 div.sk-text-repr-fallback {display: none;}</style><div id=\"sk-container-id-1\" class=\"sk-top-container\"><div class=\"sk-text-repr-fallback\"><pre>DummyClassifier()</pre><b>In a Jupyter environment, please rerun this cell to show the HTML representation or trust the notebook. <br />On GitHub, the HTML representation is unable to render, please try loading this page with nbviewer.org.</b></div><div class=\"sk-container\" hidden><div class=\"sk-item\"><div class=\"sk-estimator sk-toggleable\"><input class=\"sk-toggleable__control sk-hidden--visually\" id=\"sk-estimator-id-1\" type=\"checkbox\" checked><label for=\"sk-estimator-id-1\" class=\"sk-toggleable__label sk-toggleable__label-arrow\">DummyClassifier</label><div class=\"sk-toggleable__content\"><pre>DummyClassifier()</pre></div></div></div></div></div>"
            ],
            "text/plain": [
              "DummyClassifier()"
            ]
          },
          "execution_count": 18,
          "metadata": {},
          "output_type": "execute_result"
        }
      ],
      "source": [
        "dummy_clf = DummyClassifier()\n",
        "dummy_clf.fit(sequences_matrix_train, y_train)"
      ]
    },
    {
      "cell_type": "code",
      "execution_count": 19,
      "metadata": {},
      "outputs": [
        {
          "name": "stdout",
          "output_type": "stream",
          "text": [
            "Exactitud: 0.50\n",
            "Precisión: 0.25\n",
            "Recuperación: 0.50\n",
            "Puntuación F1: 0.33\n"
          ]
        }
      ],
      "source": [
        "y_pred = dummy_clf.predict(sequences_matrix_test)\n",
        "\n",
        "\n",
        "accuracy = accuracy_score(y_test, y_pred)\n",
        "precision = precision_score(y_test, y_pred, average='weighted')\n",
        "recall = recall_score(y_test, y_pred, average='weighted')\n",
        "f1 = f1_score(y_test, y_pred, average='weighted')\n",
        "\n",
        "\n",
        "print(f'Exactitud: {accuracy:.2f}')\n",
        "print(f'Precisión: {precision:.2f}')\n",
        "print(f'Recuperación: {recall:.2f}')\n",
        "print(f'Puntuación F1: {f1:.2f}')"
      ]
    },
    {
      "cell_type": "code",
      "execution_count": 20,
      "metadata": {},
      "outputs": [
        {
          "name": "stdout",
          "output_type": "stream",
          "text": [
            "Mejores hiperparámetros: {'constant': 2, 'strategy': 'uniform'}\n"
          ]
        }
      ],
      "source": [
        "from sklearn.model_selection import GridSearchCV\n",
        "\n",
        "dummy_clf = DummyClassifier()\n",
        "\n",
        "param_grid = {\n",
        "    'strategy': ['uniform', 'most_frequent', 'stratified', 'constant'],\n",
        "    'constant': [0, 1, 2]  \n",
        "}\n",
        "\n",
        "grid_search = GridSearchCV(dummy_clf, param_grid, cv=5, scoring='accuracy')\n",
        "\n",
        "grid_search.fit(sequences_matrix_train, y_train)\n",
        "\n",
        "best_params = grid_search.best_params_\n",
        "print(f\"Mejores hiperparámetros: {best_params}\")\n",
        "\n"
      ]
    },
    {
      "cell_type": "code",
      "execution_count": 21,
      "metadata": {},
      "outputs": [
        {
          "name": "stdout",
          "output_type": "stream",
          "text": [
            "Exactitud con mejores hiperparámetros: 0.48\n",
            "Precisión con mejores hiperparámetros: 0.48\n",
            "Recuperación con mejores hiperparámetros: 0.48\n",
            "Puntuación F1 con mejores hiperparámetros: 0.48\n"
          ]
        }
      ],
      "source": [
        "best_clf = grid_search.best_estimator_\n",
        "y_pred_best = best_clf.predict(sequences_matrix_test)\n",
        "\n",
        "accuracy_best = accuracy_score(y_test, y_pred_best)\n",
        "precision_best = precision_score(y_test, y_pred_best, average='weighted')\n",
        "recall_best = recall_score(y_test, y_pred_best, average='weighted')\n",
        "f1_best = f1_score(y_test, y_pred_best, average='weighted')\n",
        "\n",
        "print(f'Exactitud con mejores hiperparámetros: {accuracy_best:.2f}')\n",
        "print(f'Precisión con mejores hiperparámetros: {precision_best:.2f}')\n",
        "print(f'Recuperación con mejores hiperparámetros: {recall_best:.2f}')\n",
        "print(f'Puntuación F1 con mejores hiperparámetros: {f1_best:.2f}')"
      ]
    },
    {
      "cell_type": "code",
      "execution_count": 22,
      "metadata": {},
      "outputs": [],
      "source": [
        "from tensorflow.keras.models import Sequential\n",
        "from tensorflow.keras.layers import SimpleRNN, Dense, Embedding, LSTM\n",
        "from tensorflow.keras.wrappers.scikit_learn import KerasClassifier\n",
        "from tensorflow.keras.preprocessing.text import Tokenizer\n",
        "from tensorflow.keras.preprocessing.sequence import pad_sequences"
      ]
    },
    {
      "cell_type": "code",
      "execution_count": 23,
      "metadata": {},
      "outputs": [],
      "source": [
        "tokenizer = Tokenizer()\n",
        "tokenizer.fit_on_texts(X_train)\n",
        "train_sequences = tokenizer.texts_to_sequences(X_train)\n",
        "test_sequences = tokenizer.texts_to_sequences(X_test)"
      ]
    },
    {
      "cell_type": "code",
      "execution_count": 24,
      "metadata": {},
      "outputs": [],
      "source": [
        "max_len = max(max(len(seq) for seq in train_sequences), max(len(seq) for seq in test_sequences))\n",
        "train_data = pad_sequences(train_sequences, maxlen=max_len)\n",
        "test_data = pad_sequences(test_sequences, maxlen=max_len)"
      ]
    },
    {
      "cell_type": "code",
      "execution_count": 25,
      "metadata": {},
      "outputs": [],
      "source": [
        "def create_rnn_model(units=32):\n",
        "    model = Sequential()\n",
        "    model.add(Embedding(input_dim=len(tokenizer.word_index) + 1, output_dim=32, input_length=max_len))\n",
        "    model.add(SimpleRNN(units=units, activation='relu'))\n",
        "    model.add(Dense(units=1, activation='sigmoid'))\n",
        "    model.compile(optimizer='adam', loss='binary_crossentropy', metrics=['accuracy'])\n",
        "    return model\n",
        "\n",
        "    "
      ]
    },
    {
      "cell_type": "code",
      "execution_count": 26,
      "metadata": {},
      "outputs": [],
      "source": [
        "rnn_model = create_rnn_model()"
      ]
    },
    {
      "cell_type": "code",
      "execution_count": 27,
      "metadata": {},
      "outputs": [
        {
          "name": "stdout",
          "output_type": "stream",
          "text": [
            "Epoch 1/5\n",
            "7/7 [==============================] - 7s 441ms/step - loss: 0.6914 - accuracy: 0.5467 - val_loss: 0.6908 - val_accuracy: 0.5364\n",
            "Epoch 2/5\n",
            "7/7 [==============================] - 2s 245ms/step - loss: 0.6784 - accuracy: 0.6879 - val_loss: 0.6891 - val_accuracy: 0.6000\n",
            "Epoch 3/5\n",
            "7/7 [==============================] - 2s 242ms/step - loss: 0.6650 - accuracy: 0.8314 - val_loss: 0.6866 - val_accuracy: 0.6182\n",
            "Epoch 4/5\n",
            "7/7 [==============================] - 2s 253ms/step - loss: 0.6466 - accuracy: 0.8770 - val_loss: 0.6839 - val_accuracy: 0.5909\n",
            "Epoch 5/5\n",
            "7/7 [==============================] - 2s 242ms/step - loss: 0.6187 - accuracy: 0.9180 - val_loss: 0.6785 - val_accuracy: 0.6000\n"
          ]
        },
        {
          "data": {
            "text/plain": [
              "<keras.callbacks.History at 0x1ca0611c7d0>"
            ]
          },
          "execution_count": 27,
          "metadata": {},
          "output_type": "execute_result"
        }
      ],
      "source": [
        "rnn_model.fit(train_data, y_train, epochs=5, batch_size=64, validation_split=0.2)"
      ]
    },
    {
      "cell_type": "code",
      "execution_count": 28,
      "metadata": {},
      "outputs": [],
      "source": [
        "rnn_model = KerasClassifier(build_fn=create_rnn_model, epochs=5, batch_size=32, verbose=0)\n"
      ]
    },
    {
      "cell_type": "code",
      "execution_count": 41,
      "metadata": {},
      "outputs": [
        {
          "name": "stdout",
          "output_type": "stream",
          "text": [
            "6/6 [==============================] - 0s 43ms/step\n",
            "6/6 [==============================] - 0s 44ms/step\n",
            "6/6 [==============================] - 1s 40ms/step\n",
            "6/6 [==============================] - 1s 68ms/step\n",
            "6/6 [==============================] - 1s 67ms/step\n",
            "6/6 [==============================] - 1s 67ms/step\n",
            "6/6 [==============================] - 0s 40ms/step\n",
            "6/6 [==============================] - 1s 41ms/step\n",
            "6/6 [==============================] - 0s 43ms/step\n",
            "6/6 [==============================] - 1s 71ms/step\n",
            "6/6 [==============================] - 1s 68ms/step\n",
            "6/6 [==============================] - 1s 68ms/step\n",
            "6/6 [==============================] - 1s 47ms/step\n",
            "6/6 [==============================] - 0s 42ms/step\n",
            "6/6 [==============================] - 1s 43ms/step\n",
            "6/6 [==============================] - 1s 73ms/step\n",
            "6/6 [==============================] - 1s 68ms/step\n",
            "6/6 [==============================] - 1s 73ms/step\n",
            "6/6 [==============================] - 0s 43ms/step\n",
            "6/6 [==============================] - 0s 42ms/step\n",
            "6/6 [==============================] - 0s 41ms/step\n",
            "6/6 [==============================] - 1s 71ms/step\n",
            "6/6 [==============================] - 1s 73ms/step\n",
            "6/6 [==============================] - 1s 74ms/step\n",
            "Mejores hiperparámetros: {'batch_size': 64, 'epochs': 10, 'units': 100}\n"
          ]
        }
      ],
      "source": [
        "param_grid = {\n",
        "    'units': [50, 100],\n",
        "    'epochs': [5, 10],\n",
        "    'batch_size': [32, 64]\n",
        "}\n",
        "\n",
        "scoring_metrics = {\n",
        "    'accuracy': make_scorer(accuracy_score),\n",
        "    'precision': make_scorer(precision_score, average='weighted'),\n",
        "    'recall': make_scorer(recall_score, average='weighted'),\n",
        "    'f1': make_scorer(f1_score, average='weighted')\n",
        "}\n",
        "\n",
        "grid_search = GridSearchCV(rnn_model, param_grid, cv=3, scoring=scoring_metrics,refit='accuracy')\n",
        "\n",
        "# Realizar la búsqueda en los datos de entrenamiento\n",
        "grid_search.fit(train_data,y_train)\n",
        "\n",
        "# Imprimir los mejores hiperparámetros\n",
        "best_params = grid_search.best_params_\n",
        "print(f\"Mejores hiperparámetros: {best_params}\")"
      ]
    },
    {
      "cell_type": "code",
      "execution_count": 42,
      "metadata": {},
      "outputs": [
        {
          "name": "stdout",
          "output_type": "stream",
          "text": [
            "69/69 [==============================] - 5s 71ms/step\n",
            "Exactitud con mejores hiperparámetros: 0.67\n",
            "Precisión con mejores hiperparámetros: 0.66\n",
            "Recuperación con mejores hiperparámetros: 0.72\n",
            "Puntuación F1 con mejores hiperparámetros: 0.69\n"
          ]
        }
      ],
      "source": [
        "best_model = grid_search.best_estimator_\n",
        "y_pred = best_model.predict(test_data)\n",
        "\n",
        "accuracy = accuracy_score(y_test, y_pred)\n",
        "precision = precision_score(y_test, y_pred)\n",
        "recall = recall_score(y_test, y_pred)\n",
        "f1 = f1_score(y_test, y_pred)\n",
        "\n",
        "# Imprime los resultados con los mejores hiperparámetros\n",
        "print(f'Exactitud con mejores hiperparámetros: {accuracy:.2f}')\n",
        "print(f'Precisión con mejores hiperparámetros: {precision:.2f}')\n",
        "print(f'Recuperación con mejores hiperparámetros: {recall:.2f}')\n",
        "print(f'Puntuación F1 con mejores hiperparámetros: {f1:.2f}')"
      ]
    },
    {
      "cell_type": "code",
      "execution_count": 31,
      "id": "2b476873",
      "metadata": {},
      "outputs": [],
      "source": [
        "def create_lstm_model(units=32):\n",
        "    model = Sequential()\n",
        "    model.add(Embedding(input_dim=len(tokenizer.word_index) + 1, output_dim=32, input_length=max_len))\n",
        "    model.add(LSTM(units=units, activation='relu'))\n",
        "    model.add(Dense(units=1, activation='sigmoid'))\n",
        "    model.compile(optimizer='adam', loss='binary_crossentropy', metrics=['acc'])\n",
        "    return model"
      ]
    },
    {
      "cell_type": "code",
      "execution_count": 32,
      "id": "c387a4a3",
      "metadata": {},
      "outputs": [],
      "source": [
        "lstm_model = create_lstm_model()"
      ]
    },
    {
      "cell_type": "code",
      "execution_count": 33,
      "id": "f2361ac5",
      "metadata": {},
      "outputs": [
        {
          "name": "stdout",
          "output_type": "stream",
          "text": [
            "Epoch 1/5\n",
            "7/7 [==============================] - 10s 594ms/step - loss: 0.6930 - acc: 0.5103 - val_loss: 0.6928 - val_acc: 0.6000\n",
            "Epoch 2/5\n",
            "7/7 [==============================] - 3s 450ms/step - loss: 0.6902 - acc: 0.7039 - val_loss: 0.6922 - val_acc: 0.5182\n",
            "Epoch 3/5\n",
            "7/7 [==============================] - 3s 480ms/step - loss: 0.6871 - acc: 0.6925 - val_loss: 0.6915 - val_acc: 0.5182\n",
            "Epoch 4/5\n",
            "7/7 [==============================] - 3s 441ms/step - loss: 0.6826 - acc: 0.7153 - val_loss: 0.6902 - val_acc: 0.5364\n",
            "Epoch 5/5\n",
            "7/7 [==============================] - 3s 443ms/step - loss: 0.6750 - acc: 0.7677 - val_loss: 0.6879 - val_acc: 0.6000\n"
          ]
        },
        {
          "data": {
            "text/plain": [
              "<keras.callbacks.History at 0x1ca11ac56d0>"
            ]
          },
          "execution_count": 33,
          "metadata": {},
          "output_type": "execute_result"
        }
      ],
      "source": [
        "lstm_model.fit(train_data, y_train, epochs=5, batch_size=64, validation_split=0.2)"
      ]
    },
    {
      "cell_type": "code",
      "execution_count": 34,
      "metadata": {},
      "outputs": [],
      "source": [
        "lstm_model = KerasClassifier(build_fn=create_lstm_model, epochs=5, batch_size=32, verbose=0)"
      ]
    },
    {
      "cell_type": "code",
      "execution_count": 35,
      "metadata": {},
      "outputs": [
        {
          "name": "stdout",
          "output_type": "stream",
          "text": [
            "6/6 [==============================] - 1s 128ms/step\n",
            "6/6 [==============================] - 2s 161ms/step\n",
            "6/6 [==============================] - 1s 124ms/step\n",
            "6/6 [==============================] - 2s 195ms/step\n",
            "6/6 [==============================] - 2s 213ms/step\n",
            "6/6 [==============================] - 2s 214ms/step\n",
            "6/6 [==============================] - 1s 94ms/step\n",
            "6/6 [==============================] - 1s 91ms/step\n",
            "6/6 [==============================] - 1s 106ms/step\n",
            "6/6 [==============================] - 1s 177ms/step\n",
            "6/6 [==============================] - 1s 175ms/step\n",
            "6/6 [==============================] - 1s 184ms/step\n",
            "6/6 [==============================] - 1s 107ms/step\n",
            "6/6 [==============================] - 1s 106ms/step\n",
            "6/6 [==============================] - 1s 107ms/step\n",
            "6/6 [==============================] - 1s 165ms/step\n",
            "6/6 [==============================] - 1s 187ms/step\n",
            "6/6 [==============================] - 1s 179ms/step\n",
            "6/6 [==============================] - 1s 97ms/step\n",
            "6/6 [==============================] - 1s 99ms/step\n",
            "6/6 [==============================] - 1s 102ms/step\n",
            "6/6 [==============================] - 1s 158ms/step\n",
            "6/6 [==============================] - 1s 160ms/step\n",
            "6/6 [==============================] - 1s 164ms/step\n",
            "Mejores hiperparámetros: {'batch_size': 64, 'epochs': 5, 'units': 50}\n"
          ]
        }
      ],
      "source": [
        "param_grid = {\n",
        "    'units': [50, 100],\n",
        "    'epochs': [5, 10],\n",
        "    'batch_size': [32, 64]\n",
        "}\n",
        "\n",
        "grid_search = GridSearchCV(lstm_model, param_grid, cv=3, scoring='accuracy')\n",
        "\n",
        "# Realizar la búsqueda en los datos de entrenamiento\n",
        "grid_search.fit(train_data,y_train)\n",
        "\n",
        "# Imprimir los mejores hiperparámetros\n",
        "best_params = grid_search.best_params_\n",
        "print(f\"Mejores hiperparámetros: {best_params}\")"
      ]
    },
    {
      "cell_type": "code",
      "execution_count": 36,
      "metadata": {},
      "outputs": [
        {
          "name": "stdout",
          "output_type": "stream",
          "text": [
            "69/69 [==============================] - 6s 88ms/step\n",
            "Exactitud con mejores hiperparámetros: 0.50\n",
            "Precisión con mejores hiperparámetros: 0.00\n",
            "Recuperación con mejores hiperparámetros: 0.00\n",
            "Puntuación F1 con mejores hiperparámetros: 0.00\n"
          ]
        }
      ],
      "source": [
        "best_model = grid_search.best_estimator_\n",
        "y_pred = best_model.predict(test_data)\n",
        "\n",
        "accuracy = accuracy_score(y_test, y_pred)\n",
        "precision = precision_score(y_test, y_pred)\n",
        "recall = recall_score(y_test, y_pred)\n",
        "f1 = f1_score(y_test, y_pred)\n",
        "\n",
        "# Imprime los resultados con los mejores hiperparámetros\n",
        "print(f'Exactitud con mejores hiperparámetros: {accuracy:.2f}')\n",
        "print(f'Precisión con mejores hiperparámetros: {precision:.2f}')\n",
        "print(f'Recuperación con mejores hiperparámetros: {recall:.2f}')\n",
        "print(f'Puntuación F1 con mejores hiperparámetros: {f1:.2f}')"
      ]
    }
  ],
  "metadata": {
    "colab": {
      "provenance": []
    },
    "kernelspec": {
      "display_name": "Python 3 (ipykernel)",
      "language": "python",
      "name": "python3"
    },
    "language_info": {
      "codemirror_mode": {
        "name": "ipython",
        "version": 3
      },
      "file_extension": ".py",
      "mimetype": "text/x-python",
      "name": "python",
      "nbconvert_exporter": "python",
      "pygments_lexer": "ipython3",
      "version": "3.11.1"
    }
  },
  "nbformat": 4,
  "nbformat_minor": 5
}
